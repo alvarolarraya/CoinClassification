{
 "cells": [
  {
   "cell_type": "code",
   "execution_count": 1,
   "id": "57b804ad",
   "metadata": {},
   "outputs": [],
   "source": [
    "import matplotlib.pyplot as plt\n",
    "import cv2\n",
    "import numpy as np\n",
    "from glob import glob\n",
    "from skimage.feature import hog\n",
    "from skimage import exposure\n",
    "from skimage import segmentation\n",
    "from sklearn.cluster import KMeans\n",
    "from sklearn.model_selection import ShuffleSplit\n",
    "from sklearn import svm\n",
    "from sklearn.model_selection import GridSearchCV\n",
    "from sklearn.decomposition import PCA\n",
    "from sklearn import naive_bayes\n",
    "import os\n",
    "import csv\n",
    "from sklearn.model_selection import train_test_split\n",
    "from sklearn import naive_bayes\n",
    "from sklearn import metrics\n",
    "from funcionesProyecto import funcionLeerClase, funcionLeerTodasClases, ecualizacionAdaptativa, imagen_media_color, quitarFondo, generarHogClase, generarCsv"
   ]
  },
  {
   "cell_type": "markdown",
   "id": "86689455",
   "metadata": {},
   "source": [
    "<br/><br/>**<u>PREPARAMOS LOS DATOS</u>:**<br/><br/><br/><br/>"
   ]
  },
  {
   "cell_type": "code",
   "execution_count": 2,
   "id": "dd60ec79",
   "metadata": {},
   "outputs": [
    {
     "name": "stdout",
     "output_type": "stream",
     "text": [
      "En train/10c, hay 254 ejemplos\n",
      "En train/1c, hay 77 ejemplos\n",
      "En train/1e, hay 248 ejemplos\n",
      "En train/20c, hay 227 ejemplos\n",
      "En train/2c, hay 25 ejemplos\n",
      "En train/2e, hay 45 ejemplos\n",
      "En train/50c, hay 131 ejemplos\n",
      "En train/5c, hay 284 ejemplos\n"
     ]
    }
   ],
   "source": [
    "datosLista = funcionLeerTodasClases('train')"
   ]
  },
  {
   "cell_type": "code",
   "execution_count": 13,
   "id": "e986ed3b",
   "metadata": {},
   "outputs": [
    {
     "name": "stdout",
     "output_type": "stream",
     "text": [
      "La clase 0 tiene 254 ejemplos\n",
      "La clase 1 tiene 77 ejemplos\n",
      "La clase 2 tiene 248 ejemplos\n",
      "La clase 3 tiene 227 ejemplos\n",
      "La clase 4 tiene 25 ejemplos\n",
      "La clase 5 tiene 45 ejemplos\n",
      "La clase 6 tiene 131 ejemplos\n",
      "La clase 7 tiene 284 ejemplos\n"
     ]
    }
   ],
   "source": [
    "fd = hog(datosLista[0][0], orientations=8, pixels_per_cell=(8, 8),cells_per_block=(7, 7))\n",
    "numeroColumnas = fd.size\n",
    "datos = np.empty((0,numeroColumnas+1))\n",
    "for i,clase in enumerate(datosLista):\n",
    "    array = generarHogClase(clase)\n",
    "    array = np.hstack((array, np.full((array.shape[0], 1), i)))\n",
    "    print('La clase {} tiene {} ejemplos'.format(i,array.shape[0]))\n",
    "    datos = np.vstack((datos, array))"
   ]
  },
  {
   "cell_type": "code",
   "execution_count": 10,
   "id": "06d86f08",
   "metadata": {},
   "outputs": [
    {
     "name": "stdout",
     "output_type": "stream",
     "text": [
      "En total hay 1291 ejemplos, con 56448 caracteristicas\n"
     ]
    }
   ],
   "source": [
    "X = datos[:,:-1]\n",
    "print('En total hay {} ejemplos, con {} caracteristicas'.format(X.shape[0], X.shape[1]))\n",
    "y = datos[:,-1].reshape(-1,1)"
   ]
  },
  {
   "cell_type": "code",
   "execution_count": 11,
   "id": "09633673",
   "metadata": {},
   "outputs": [
    {
     "name": "stdout",
     "output_type": "stream",
     "text": [
      "Hay 964 ejemplos de test\n"
     ]
    }
   ],
   "source": [
    "datosTest = funcionLeerClase('public_test')\n",
    "print('Hay {} ejemplos de test'.format(len(datosTest)))"
   ]
  },
  {
   "cell_type": "code",
   "execution_count": 12,
   "id": "9b36fe91",
   "metadata": {},
   "outputs": [],
   "source": [
    "test = generarHogClase(datosTest)"
   ]
  },
  {
   "cell_type": "markdown",
   "id": "cd44caa8",
   "metadata": {},
   "source": [
    "<br/><br/>**<u>PROBAMOS SVM</u>:**<br/><br/><br/><br/>"
   ]
  },
  {
   "cell_type": "code",
   "execution_count": null,
   "id": "08d4ae43",
   "metadata": {},
   "outputs": [],
   "source": [
    "#Entrenamos con todos los ejemplos de train\n",
    "C_values = [0.1,1,2,3,4,5,6,7]\n",
    "gamma_values = [0.01, 0.02, 0.03, 0.04, 0.05, 0.06]\n",
    "kernel = ['linear', 'poly', 'rbf', 'sigmoid']\n",
    "params = {'C': C_values, 'gamma': gamma_values, 'kernel': kernel}\n",
    "rs = ShuffleSplit(n_splits=1, test_size= 0.2, random_state=0)\n",
    "svc = svm.SVC()\n",
    "clf = GridSearchCV(svc, params, cv=rs, n_jobs=-1)\n",
    "clf = clf.fit(X,y.ravel())\n",
    "C_best = clf.best_params_['C']\n",
    "gamma_best = clf.best_params_['gamma']\n",
    "kernel_best = clf.best_params_['kernel']\n",
    "print(\"Mejores parámetros C: {}, gamma: {}, kernel: {}\".format(C_best, gamma_best, kerne_best))\n",
    "svc = svm.SVC(gamma=gamma_best, C=C_best, kernel=kernel_best)\n",
    "svc = svc.fit(X,y.ravel())\n",
    "accTrain = svc.score(X,y)\n",
    "print(accTrain)"
   ]
  },
  {
   "cell_type": "code",
   "execution_count": null,
   "id": "a69fe2bc",
   "metadata": {},
   "outputs": [],
   "source": [
    "test_labels = svc.predict(test)"
   ]
  },
  {
   "cell_type": "markdown",
   "id": "54a550b0",
   "metadata": {},
   "source": [
    "<br/><br/>**<u>GENERAMOS LOS RESULTADOS</u>:**<br/><br/><br/><br/>"
   ]
  },
  {
   "cell_type": "code",
   "execution_count": null,
   "id": "fa88a562",
   "metadata": {},
   "outputs": [],
   "source": [
    "generarCsv('public_test', test_labels)"
   ]
  }
 ],
 "metadata": {
  "kernelspec": {
   "display_name": "Python 3",
   "language": "python",
   "name": "python3"
  },
  "language_info": {
   "codemirror_mode": {
    "name": "ipython",
    "version": 3
   },
   "file_extension": ".py",
   "mimetype": "text/x-python",
   "name": "python",
   "nbconvert_exporter": "python",
   "pygments_lexer": "ipython3",
   "version": "3.8.8"
  }
 },
 "nbformat": 4,
 "nbformat_minor": 5
}
