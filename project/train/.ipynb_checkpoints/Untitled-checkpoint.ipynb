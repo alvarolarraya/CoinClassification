{
 "cells": [
  {
   "cell_type": "code",
   "execution_count": 1,
   "id": "4cdbc37e",
   "metadata": {},
   "outputs": [],
   "source": [
    "import matplotlib.pyplot as plt\n",
    "import cv2\n",
    "from skimage.feature import hog\n",
    "from skimage import exposure\n",
    "from glob import glob"
   ]
  },
  {
   "cell_type": "code",
   "execution_count": 21,
   "id": "051ef397",
   "metadata": {},
   "outputs": [],
   "source": [
    "def funcionLeerClase(pathDirectorio):\n",
    "    pathsCompletos = glob(pathDirectorio+'/*')\n",
    "    imagenes = []\n",
    "    for nombreImagen in pathsCompletos:\n",
    "        imagen = cv2.imread(nombreImagen)\n",
    "        imagenes.append(imagen)\n",
    "    return imagenes"
   ]
  },
  {
   "cell_type": "code",
   "execution_count": 27,
   "id": "7ff9c753",
   "metadata": {},
   "outputs": [],
   "source": [
    "def funcionLeerTodasClases(pathDirectorio):\n",
    "    etiquetasClases = ['1c','2c','5c','10c','20c','50c','1e', '2e']\n",
    "    lista1c = []\n",
    "    lista2c = []\n",
    "    lista5c = []\n",
    "    lista10c = []\n",
    "    lista20c = []\n",
    "    lista50c = []\n",
    "    lista1e = []\n",
    "    lista2e = []\n",
    "    vec_listas = [lista1c,lista2c,lista5c,lista10c,lista20c,lista50c,lista1e,lista2e]\n",
    "    for i in range(len(etiquetasClases)):\n",
    "        print(pathDirectorio+'/'+etiquetasClases[i])\n",
    "        vec_listas[i] = funcionLeerClase(pathDirectorio+etiquetasClases[i])\n",
    "    return vec_listas"
   ]
  },
  {
   "cell_type": "code",
   "execution_count": 12,
   "id": "3459e791",
   "metadata": {},
   "outputs": [
    {
     "name": "stdout",
     "output_type": "stream",
     "text": [
      "Las monedas de 1c son: 77\n",
      "Las monedas de 2c son: 25\n",
      "Las monedas de 50c son: 131\n",
      "Las monedas de 1e son: 248\n"
     ]
    }
   ],
   "source": [
    "imagenes = funcionLeerImagenes('1c')\n",
    "print('Las monedas de 1c son:',len(imagenes))\n",
    "cv2.imshow('primera imagen 1c', imagenes[0])\n",
    "cv2.waitKey()\n",
    "cv2.destroyAllWindows()\n",
    "imagenes = funcionLeerImagenes('2c')\n",
    "print('Las monedas de 2c son:', len(imagenes))\n",
    "imagenes = funcionLeerImagenes('50c')\n",
    "print('Las monedas de 50c son:', len(imagenes))\n",
    "imagenes = funcionLeerImagenes('1e')\n",
    "print('Las monedas de 1e son:', len(imagenes))\n",
    "cv2.imshow('primera imagen 1e', imagenes[0])\n",
    "cv2.waitKey()\n",
    "cv2.destroyAllWindows()"
   ]
  },
  {
   "cell_type": "code",
   "execution_count": 28,
   "id": "53b8e7f5",
   "metadata": {},
   "outputs": [
    {
     "name": "stdout",
     "output_type": "stream",
     "text": [
      "train/1c\n",
      "train/2c\n",
      "train/5c\n",
      "train/10c\n",
      "train/20c\n",
      "train/50c\n",
      "train/1e\n",
      "train/2e\n",
      "0\n"
     ]
    }
   ],
   "source": [
    "lista1c,lista2c,lista5c,lista10c,lista20c,lista50c,lista1e,lista2e = funcionLeerTodasClases('train')\n",
    "print(len(lista1c))"
   ]
  }
 ],
 "metadata": {
  "kernelspec": {
   "display_name": "Python 3",
   "language": "python",
   "name": "python3"
  },
  "language_info": {
   "codemirror_mode": {
    "name": "ipython",
    "version": 3
   },
   "file_extension": ".py",
   "mimetype": "text/x-python",
   "name": "python",
   "nbconvert_exporter": "python",
   "pygments_lexer": "ipython3",
   "version": "3.8.8"
  }
 },
 "nbformat": 4,
 "nbformat_minor": 5
}
