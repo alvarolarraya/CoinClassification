{
 "cells": [
  {
   "cell_type": "code",
   "execution_count": 1,
   "id": "57b804ad",
   "metadata": {},
   "outputs": [],
   "source": [
    "import matplotlib.pyplot as plt\n",
    "import cv2\n",
    "import numpy as np\n",
    "from glob import glob\n",
    "from skimage.feature import hog\n",
    "from skimage import exposure\n",
    "from skimage import segmentation\n",
    "from sklearn.cluster import KMeans\n",
    "from sklearn.model_selection import ShuffleSplit\n",
    "from sklearn import svm\n",
    "from sklearn.model_selection import GridSearchCV\n",
    "from sklearn.decomposition import PCA\n",
    "from sklearn import naive_bayes\n",
    "import os\n",
    "import csv\n",
    "from sklearn.model_selection import train_test_split\n",
    "from funcionesProyecto import funcionLeerClase, funcionLeerTodasClases, ecualizacionAdaptativa, imagen_media_color, quitarFondo, generarHogClase, generarCsv"
   ]
  },
  {
   "cell_type": "markdown",
   "id": "86689455",
   "metadata": {},
   "source": [
    "<br/><br/>**<u>PREPARAMOS LOS DATOS</u>:**<br/><br/><br/><br/>"
   ]
  },
  {
   "cell_type": "code",
   "execution_count": 2,
   "id": "dd60ec79",
   "metadata": {},
   "outputs": [
    {
     "name": "stdout",
     "output_type": "stream",
     "text": [
      "En train/10c, hay 254 ejemplos\n",
      "En train/1c, hay 77 ejemplos\n",
      "En train/1e, hay 248 ejemplos\n",
      "En train/20c, hay 227 ejemplos\n",
      "En train/2c, hay 25 ejemplos\n",
      "En train/2e, hay 45 ejemplos\n",
      "En train/50c, hay 131 ejemplos\n",
      "En train/5c, hay 284 ejemplos\n"
     ]
    }
   ],
   "source": [
    "datosLista = funcionLeerTodasClases('train')"
   ]
  },
  {
   "cell_type": "code",
   "execution_count": 3,
   "id": "e986ed3b",
   "metadata": {},
   "outputs": [
    {
     "name": "stdout",
     "output_type": "stream",
     "text": [
      "(254, 3529)\n",
      "(77, 3529)\n",
      "(248, 3529)\n",
      "(227, 3529)\n",
      "(25, 3529)\n",
      "(45, 3529)\n",
      "(131, 3529)\n",
      "(284, 3529)\n",
      "(1291, 3529)\n"
     ]
    }
   ],
   "source": [
    "fd = hog(datosLista[0][0], orientations=8, pixels_per_cell=(8, 8),cells_per_block=(7, 7))\n",
    "numeroColumnas = fd.size\n",
    "datos = np.empty((0,numeroColumnas+1))\n",
    "for i,clase in enumerate(datosLista):\n",
    "    array = generarHogClase(clase)\n",
    "    array = np.hstack((array, np.full((array.shape[0], 1), i)))\n",
    "    print(array.shape)\n",
    "    datos = np.vstack((datos, array))\n",
    "print(datos.shape)"
   ]
  },
  {
   "cell_type": "code",
   "execution_count": 4,
   "id": "06d86f08",
   "metadata": {},
   "outputs": [
    {
     "name": "stdout",
     "output_type": "stream",
     "text": [
      "(1291, 3528) (1291, 1)\n",
      "(774, 3528) (774, 1)\n",
      "(258, 3528) (258, 1)\n",
      "(259, 3528) (259, 1)\n"
     ]
    }
   ],
   "source": [
    "X = datos[:,:-1]\n",
    "y = datos[:,-1].reshape(-1,1)\n",
    "print(X.shape, y.shape)\n",
    "Xtrain, Xval_test, ytrain, yval_test = train_test_split(X, y, test_size=0.4, random_state=42)\n",
    "Xval, Xtest, yval, ytest = train_test_split(Xval_test, yval_test, test_size=0.5, random_state=42)\n",
    "print(Xtrain.shape, ytrain.shape)\n",
    "print(Xval.shape, yval.shape)\n",
    "print(Xtest.shape, ytest.shape)"
   ]
  },
  {
   "cell_type": "code",
   "execution_count": 5,
   "id": "09633673",
   "metadata": {},
   "outputs": [
    {
     "name": "stdout",
     "output_type": "stream",
     "text": [
      "964\n"
     ]
    }
   ],
   "source": [
    "datosTest = funcionLeerClase('public_test')\n",
    "print(len(datosTest))"
   ]
  },
  {
   "cell_type": "code",
   "execution_count": 6,
   "id": "9b36fe91",
   "metadata": {},
   "outputs": [
    {
     "name": "stdout",
     "output_type": "stream",
     "text": [
      "(964, 3528)\n"
     ]
    }
   ],
   "source": [
    "fd = hog(datosTest[0], orientations=8, pixels_per_cell=(8, 8),cells_per_block=(7, 7))\n",
    "numeroColumnas = fd.size\n",
    "test = generarHogClase(datosTest)\n",
    "print(test.shape)"
   ]
  },
  {
   "cell_type": "markdown",
   "id": "cd44caa8",
   "metadata": {},
   "source": [
    "<br/><br/>**<u>PROBAMOS SVM</u>:**<br/><br/><br/><br/>"
   ]
  },
  {
   "cell_type": "code",
   "execution_count": null,
   "id": "62ab1222",
   "metadata": {},
   "outputs": [],
   "source": [
    "#Hacernos una idea del rendimiento: partimos train en tres conjuntos\n",
    "C_values = [10**-4,10**-3,10**-2, 0.1,1,2,3,4, 10, 100]\n",
    "gamma_values = [10**-4,10**-3,10**-2, 0.1,1, 10, 100]\n",
    "params = {'C': C_values, 'gamma': gamma_values}\n",
    "rs = ShuffleSplit(n_splits=1, test_size= 0.2, random_state=0)\n",
    "svc = svm.SVC()\n",
    "clf = GridSearchCV(svc, params, cv=rs, n_jobs=-1)\n",
    "clf = clf.fit(Xtrain,ytrain.ravel())\n",
    "C_best = clf.best_params_['C']\n",
    "gamma_best = clf.best_params_['gamma']\n",
    "print(\"Mejores parámetros C: {}, gamma: {}\".format(C_best, gamma_best))\n",
    "svc = svm.SVC(gamma=gamma_best, C=C_best)\n",
    "svc = svc.fit(Xtrain,ytrain.ravel())\n",
    "print('PRECISION:')\n",
    "accTrain = svc.score(Xtrain,ytrain)\n",
    "print('\\tTRAIN:', accTrain)\n",
    "accVal = svc.score(Xval,yval)\n",
    "print('\\tVAL:', accVal)\n",
    "accTest = svc.score(Xtest,ytest)\n",
    "print('\\tTEST:', accTest)"
   ]
  },
  {
   "cell_type": "code",
   "execution_count": 7,
   "id": "08d4ae43",
   "metadata": {},
   "outputs": [
    {
     "name": "stdout",
     "output_type": "stream",
     "text": [
      "Mejores parámetros C: 7, gamma: 0.06\n",
      "0.9512006196746708\n"
     ]
    }
   ],
   "source": [
    "#Entrenamos con todos los ejemplos de train\n",
    "C_values = [0.1,1,2,3,4,5,6,7]\n",
    "gamma_values = [0.01, 0.02, 0.03, 0.04, 0.05, 0.06]\n",
    "params = {'C': C_values, 'gamma': gamma_values}\n",
    "rs = ShuffleSplit(n_splits=1, test_size= 0.2, random_state=0)\n",
    "svc = svm.SVC()\n",
    "clf = GridSearchCV(svc, params, cv=rs, n_jobs=-1)\n",
    "clf = clf.fit(X,y.ravel())\n",
    "C_best = clf.best_params_['C']\n",
    "gamma_best = clf.best_params_['gamma']\n",
    "print(\"Mejores parámetros C: {}, gamma: {}\".format(C_best, gamma_best))\n",
    "svc = svm.SVC(gamma=gamma_best, C=C_best)\n",
    "svc = svc.fit(X,y.ravel())\n",
    "accTrain = svc.score(X,y)\n",
    "print(accTrain)"
   ]
  },
  {
   "cell_type": "code",
   "execution_count": 8,
   "id": "a69fe2bc",
   "metadata": {},
   "outputs": [],
   "source": [
    "test_labels = svc.predict(test)"
   ]
  },
  {
   "cell_type": "markdown",
   "id": "0b102636",
   "metadata": {},
   "source": [
    "<br/><br/>**<u>PROBAMOS REDES</u>:**<br/><br/><br/><br/>"
   ]
  },
  {
   "cell_type": "code",
   "execution_count": null,
   "id": "62269471",
   "metadata": {},
   "outputs": [],
   "source": [
    "from sklearn.neural_network import MLPClassifier\n",
    "#RED NEURONAL\n",
    "rs = ShuffleSplit(n_splits=1, test_size= 0.2, random_state=0)\n",
    "hidden_sizes = range(1, 25, 2)\n",
    "metodoPesos = ['lbfgs', 'sgd', 'adam']\n",
    "funcionActivacion = ['identity', 'logistic', 'tanh', 'relu']\n",
    "clf = MLPClassifier(max_iter = 250)\n",
    "parameters = {'hidden_layer_sizes': hidden_sizes, 'solver': metodoPesos, 'activation': funcionActivacion}\n",
    "gridSearch = GridSearchCV(clf, scoring = 'neg_mean_squared_error',param_grid = parameters, cv=rs, n_jobs=-1)\n",
    "gridSearch = gridSearch.fit(X,y)\n",
    "hidden_layer_sizes_best = gridSearch.best_params_['hidden_layer_sizes']\n",
    "funcionActivacion_best = gridSearch.best_params_['activation']\n",
    "metodoPesos_best = gridSearch.best_params_['solver']\n",
    "clf = MLPClassifier(max_iter = 250, hidden_layer_sizes = hidden_layer_sizes_best, solver = metodoPesos_best,activation =  funcionActivacion_best)\n",
    "clf = clf.fit(X,y)\n",
    "salidasTrain = clf.predict(X)\n",
    "Etrain = metrics.mean_squared_error(salidasTrain, y)\n",
    "print(Etrain)"
   ]
  },
  {
   "cell_type": "code",
   "execution_count": null,
   "id": "004b56b5",
   "metadata": {},
   "outputs": [],
   "source": [
    "test_labels = clf.predict(test)"
   ]
  },
  {
   "cell_type": "markdown",
   "id": "54a550b0",
   "metadata": {},
   "source": [
    "<br/><br/>**<u>GENERAMOS LOS RESULTADOS</u>:**<br/><br/><br/><br/>"
   ]
  },
  {
   "cell_type": "code",
   "execution_count": 9,
   "id": "fa88a562",
   "metadata": {},
   "outputs": [],
   "source": [
    "generarCsv('public_test', test_labels)"
   ]
  }
 ],
 "metadata": {
  "kernelspec": {
   "display_name": "Python 3",
   "language": "python",
   "name": "python3"
  },
  "language_info": {
   "codemirror_mode": {
    "name": "ipython",
    "version": 3
   },
   "file_extension": ".py",
   "mimetype": "text/x-python",
   "name": "python",
   "nbconvert_exporter": "python",
   "pygments_lexer": "ipython3",
   "version": "3.8.8"
  }
 },
 "nbformat": 4,
 "nbformat_minor": 5
}
