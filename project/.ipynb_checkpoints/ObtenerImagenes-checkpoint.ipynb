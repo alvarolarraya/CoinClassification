{
 "cells": [
  {
   "cell_type": "code",
   "execution_count": 1,
   "id": "4cdbc37e",
   "metadata": {},
   "outputs": [],
   "source": [
    "import matplotlib.pyplot as plt\n",
    "import cv2\n",
    "from skimage.feature import hog\n",
    "from skimage import exposure\n",
    "from glob import glob"
   ]
  },
  {
   "cell_type": "code",
   "execution_count": 2,
   "id": "051ef397",
   "metadata": {},
   "outputs": [],
   "source": [
    "def funcionLeerClase(pathDirectorio):\n",
    "    pathsCompletos = glob(pathDirectorio+'/*')\n",
    "    imagenes = []\n",
    "    for nombreImagen in pathsCompletos:\n",
    "        imagen = cv2.imread(nombreImagen)\n",
    "        imagenes.append(imagen)\n",
    "    return imagenes"
   ]
  },
  {
   "cell_type": "code",
   "execution_count": 3,
   "id": "7ff9c753",
   "metadata": {},
   "outputs": [],
   "source": [
    "def funcionLeerTodasClases(pathDirectorio):\n",
    "    etiquetasClases = ['1c','2c','5c','10c','20c','50c','1e', '2e']\n",
    "    lista1c = []\n",
    "    lista2c = []\n",
    "    lista5c = []\n",
    "    lista10c = []\n",
    "    lista20c = []\n",
    "    lista50c = []\n",
    "    lista1e = []\n",
    "    lista2e = []\n",
    "    vec_listas = [lista1c,lista2c,lista5c,lista10c,lista20c,lista50c,lista1e,lista2e]\n",
    "    for i in range(len(etiquetasClases)):\n",
    "        print('En',pathDirectorio+'/'+etiquetasClases[i], end = \"\")\n",
    "        vec_listas[i] = funcionLeerClase(pathDirectorio+'/'+etiquetasClases[i])\n",
    "        print(', hay', len(vec_listas[i]), 'ejemplos')\n",
    "    return vec_listas"
   ]
  },
  {
   "cell_type": "code",
   "execution_count": 4,
   "id": "53b8e7f5",
   "metadata": {},
   "outputs": [
    {
     "name": "stdout",
     "output_type": "stream",
     "text": [
      "En train/1c, hay 77 ejemplos\n",
      "En train/2c, hay 25 ejemplos\n",
      "En train/5c, hay 284 ejemplos\n",
      "En train/10c, hay 254 ejemplos\n",
      "En train/20c, hay 227 ejemplos\n",
      "En train/50c, hay 131 ejemplos\n",
      "En train/1e, hay 248 ejemplos\n",
      "En train/2e, hay 45 ejemplos\n"
     ]
    }
   ],
   "source": [
    "lista1c,lista2c,lista5c,lista10c,lista20c,lista50c,lista1e,lista2e = funcionLeerTodasClases('train')"
   ]
  },
  {
   "cell_type": "code",
   "execution_count": null,
   "id": "6ca6e36a",
   "metadata": {},
   "outputs": [],
   "source": []
  }
 ],
 "metadata": {
  "kernelspec": {
   "display_name": "Python 3",
   "language": "python",
   "name": "python3"
  },
  "language_info": {
   "codemirror_mode": {
    "name": "ipython",
    "version": 3
   },
   "file_extension": ".py",
   "mimetype": "text/x-python",
   "name": "python",
   "nbconvert_exporter": "python",
   "pygments_lexer": "ipython3",
   "version": "3.8.8"
  }
 },
 "nbformat": 4,
 "nbformat_minor": 5
}
