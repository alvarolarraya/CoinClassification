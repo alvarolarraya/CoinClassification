{
 "cells": [
  {
   "cell_type": "code",
   "execution_count": 22,
   "id": "6844b5d4",
   "metadata": {},
   "outputs": [],
   "source": [
    "import matplotlib.pyplot as plt\n",
    "import cv2\n",
    "import numpy as np\n",
    "from glob import glob\n",
    "from skimage.feature import hog\n",
    "import os\n",
    "from skimage import exposure\n",
    "from skimage import segmentation\n",
    "from sklearn.cluster import KMeans"
   ]
  },
  {
   "cell_type": "code",
   "execution_count": 32,
   "id": "d866bdd6",
   "metadata": {},
   "outputs": [],
   "source": [
    "def funcionLeerClase(pathDirectorio):\n",
    "    pathsCompletos = glob(pathDirectorio+'/*')\n",
    "    imagenes = []\n",
    "    nombresMonedas = []\n",
    "    for nombreImagen in pathsCompletos:\n",
    "        imagen = cv2.imread(nombreImagen)\n",
    "        imagenes.append(imagen)\n",
    "        nombresMonedas.append(nombreImagen)\n",
    "    return imagenes,nombresMonedas"
   ]
  },
  {
   "cell_type": "code",
   "execution_count": 33,
   "id": "829a18be",
   "metadata": {},
   "outputs": [],
   "source": [
    "def funcionLeerTodasClases(pathDirectorio):\n",
    "    etiquetasClases = ['1c','2c','5c','10c','20c','50c','1e', '2e']\n",
    "    lista1c = []\n",
    "    lista2c = []\n",
    "    lista5c = []\n",
    "    lista10c = []\n",
    "    lista20c = []\n",
    "    lista50c = []\n",
    "    lista1e = []\n",
    "    lista2e = []\n",
    "    vec_listas = [lista1c,lista2c,lista5c,lista10c,lista20c,lista50c,lista1e,lista2e]\n",
    "    nombresMonedas = []\n",
    "    for i in range(len(etiquetasClases)):\n",
    "        print('En',pathDirectorio+'/'+etiquetasClases[i], end = \"\")\n",
    "        vec_listas[i], aux = funcionLeerClase(pathDirectorio+'/'+etiquetasClases[i])\n",
    "        nombresMonedas = nombresMonedas + aux\n",
    "        print(', hay', len(vec_listas[i]), 'ejemplos')\n",
    "    return vec_listas,nombresMonedas"
   ]
  },
  {
   "cell_type": "code",
   "execution_count": 44,
   "id": "37ac1cc0",
   "metadata": {},
   "outputs": [
    {
     "name": "stdout",
     "output_type": "stream",
     "text": [
      "En train/1c, hay 77 ejemplos\n",
      "En train/2c, hay 25 ejemplos\n",
      "En train/5c, hay 284 ejemplos\n",
      "En train/10c, hay 254 ejemplos\n",
      "En train/20c, hay 227 ejemplos\n",
      "En train/50c, hay 131 ejemplos\n",
      "En train/1e, hay 248 ejemplos\n",
      "En train/2e, hay 45 ejemplos\n"
     ]
    }
   ],
   "source": [
    "imagenes, nombresMonedas = funcionLeerTodasClases('train')"
   ]
  },
  {
   "cell_type": "code",
   "execution_count": 6,
   "id": "009e72fb",
   "metadata": {},
   "outputs": [],
   "source": [
    "def ecualizacionAdaptativa(image):\n",
    "    lab = cv2.cvtColor(image, cv2.COLOR_BGR2LAB)\n",
    "    lab_planes = cv2.split(lab)\n",
    "    clahe = cv2.createCLAHE(clipLimit=2.0,tileGridSize=(3,3))\n",
    "    lab_planes[0] = clahe.apply(lab_planes[0])\n",
    "    lab = cv2.merge(lab_planes)\n",
    "    ecualizada = cv2.cvtColor(lab, cv2.COLOR_LAB2BGR).astype('uint8')\n",
    "    return ecualizada"
   ]
  },
  {
   "cell_type": "code",
   "execution_count": 7,
   "id": "452cf39b",
   "metadata": {},
   "outputs": [],
   "source": [
    "def imagen_media_color(imagen, nClusters):\n",
    "    alg = KMeans(n_clusters=nClusters, n_init = 20)\n",
    "    alg.fit(np.hstack((img[:,:,0].reshape(-1,1), img[:,:,1].reshape(-1,1), img[:,:,2].reshape(-1,1))))\n",
    "    etiquetas = alg.labels_\n",
    "    centros = alg.cluster_centers_\n",
    "    nuevaImagen = np.zeros(imagen.shape)\n",
    "    nuevaImagen = centros[etiquetas].reshape(imagen.shape)\n",
    "    return nuevaImagen/255"
   ]
  },
  {
   "cell_type": "code",
   "execution_count": 8,
   "id": "5d24ddad",
   "metadata": {},
   "outputs": [],
   "source": [
    "def quitarFondo(img):\n",
    "    imgBlurreada = cv2.blur(img,(7,7))\n",
    "    imagenMedia = imagen_media_color(imgBlurreada, nClusters = 2)\n",
    "    puntoCentro = (img.shape[0]//2,img.shape[1]//2)\n",
    "    imagenSinFondo = img.copy()\n",
    "    posFondo = (imagenMedia != imagenMedia[puntoCentro])\n",
    "    #Intenté ponerle de color el fondo de la moneda, pero no pude\n",
    "    '''\n",
    "    imagenSinFondo[posFondo[:,:,0]] = imagenMedia[:,:,0][puntoCentro]\n",
    "    imagenSinFondo[posFondo[:,:,1]] = imagenMedia[:,:,1][puntoCentro]\n",
    "    imagenSinFondo[posFondo[:,:,2]] = imagenMedia[:,:,2][puntoCentro]\n",
    "    '''\n",
    "    imagenSinFondo[posFondo] = 255\n",
    "    return imagenSinFondo"
   ]
  },
  {
   "cell_type": "code",
   "execution_count": 9,
   "id": "b624a9e7",
   "metadata": {},
   "outputs": [],
   "source": [
    "def realceBordes(imagen, a, tamKernel):    \n",
    "    imagenConMedia = cv2.blur(imagen,(tamKernel,tamKernel))\n",
    "    imageBordes = imagen - imagenConMedia\n",
    "    imagenFinal = (imagen + a * imageBordes).astype(np.uint8)\n",
    "    return imagenFinal"
   ]
  },
  {
   "cell_type": "code",
   "execution_count": 1,
   "id": "19ad2057",
   "metadata": {},
   "outputs": [
    {
     "ename": "NameError",
     "evalue": "name 'np' is not defined",
     "output_type": "error",
     "traceback": [
      "\u001b[0;31m---------------------------------------------------------------------------\u001b[0m",
      "\u001b[0;31mNameError\u001b[0m                                 Traceback (most recent call last)",
      "\u001b[0;32m<ipython-input-1-357f3d2b8680>\u001b[0m in \u001b[0;36m<module>\u001b[0;34m\u001b[0m\n\u001b[0;32m----> 1\u001b[0;31m \u001b[0mXtrain\u001b[0m \u001b[0;34m=\u001b[0m \u001b[0mnp\u001b[0m\u001b[0;34m.\u001b[0m\u001b[0mzeros\u001b[0m\u001b[0;34m(\u001b[0m\u001b[0;34m(\u001b[0m\u001b[0mlen\u001b[0m\u001b[0;34m(\u001b[0m\u001b[0mnombresMonedas\u001b[0m\u001b[0;34m)\u001b[0m\u001b[0;34m,\u001b[0m\u001b[0;36m758912\u001b[0m\u001b[0;34m)\u001b[0m\u001b[0;34m)\u001b[0m\u001b[0;34m\u001b[0m\u001b[0;34m\u001b[0m\u001b[0m\n\u001b[0m\u001b[1;32m      2\u001b[0m \u001b[0mYtrain\u001b[0m \u001b[0;34m=\u001b[0m \u001b[0mnp\u001b[0m\u001b[0;34m.\u001b[0m\u001b[0mzeros\u001b[0m\u001b[0;34m(\u001b[0m\u001b[0mlen\u001b[0m\u001b[0;34m(\u001b[0m\u001b[0mnombresMonedas\u001b[0m\u001b[0;34m)\u001b[0m\u001b[0;34m)\u001b[0m\u001b[0;34m\u001b[0m\u001b[0;34m\u001b[0m\u001b[0m\n\u001b[1;32m      3\u001b[0m \u001b[0;34m\u001b[0m\u001b[0m\n\u001b[1;32m      4\u001b[0m \u001b[0;32mfor\u001b[0m \u001b[0mi\u001b[0m\u001b[0;34m,\u001b[0m\u001b[0mimg\u001b[0m \u001b[0;32min\u001b[0m \u001b[0menumerate\u001b[0m\u001b[0;34m(\u001b[0m\u001b[0mimagenes\u001b[0m\u001b[0;34m[\u001b[0m\u001b[0;36m0\u001b[0m\u001b[0;34m]\u001b[0m\u001b[0;34m)\u001b[0m\u001b[0;34m:\u001b[0m\u001b[0;34m\u001b[0m\u001b[0;34m\u001b[0m\u001b[0m\n\u001b[1;32m      5\u001b[0m     \u001b[0mimg\u001b[0m \u001b[0;34m=\u001b[0m \u001b[0mcv2\u001b[0m\u001b[0;34m.\u001b[0m\u001b[0mmedianBlur\u001b[0m\u001b[0;34m(\u001b[0m\u001b[0mimg\u001b[0m\u001b[0;34m,\u001b[0m\u001b[0;36m3\u001b[0m\u001b[0;34m)\u001b[0m\u001b[0;34m\u001b[0m\u001b[0;34m\u001b[0m\u001b[0m\n",
      "\u001b[0;31mNameError\u001b[0m: name 'np' is not defined"
     ]
    }
   ],
   "source": [
    "Xtrain = np.zeros((len(nombresMonedas),758912))\n",
    "Ytrain = np.zeros(len(nombresMonedas))\n",
    "\n",
    "for i,img in enumerate(imagenes[0]):\n",
    "    img = cv2.medianBlur(img,3)\n",
    "    img = cv2.cvtColor(img, cv2.COLOR_BGR2RGB)\n",
    "    \n",
    "    imagenMedia = imagen_media_color(img, 2)\n",
    "    \n",
    "    plt.subplot(221), plt.imshow(img)\n",
    "    plt.subplot(222), plt.imshow(imagenMedia)\n",
    "    \n",
    "    imagenSinFondo = quitarFondo(img)\n",
    "    imagenSinFondo = ecualizacionAdaptativa(imagenSinFondo)\n",
    "#     plt.subplot(223), plt.imshow(imagenSinFondo)\n",
    "    \n",
    "    imagenSinFondo = realceBordes(imagenSinFondo, a = 2, tamKernel = 5)\n",
    "#     plt.subplot(224), plt.imshow(imagenSinFondo)\n",
    "    \n",
    "    \n",
    "    ###############################################################\n",
    "    # BUSCAMOS LA SILUETA DE LA MONEDA PRINCIPAL EN LA IMAGEN\n",
    "    ###############################################################\n",
    "    output = imagenSinFondo.copy()\n",
    "    gray = cv2.cvtColor(output, cv2.COLOR_BGR2GRAY)\n",
    "\n",
    "    circles = cv2.HoughCircles(gray,cv2.HOUGH_GRADIENT,1,40,\n",
    "                        param1=30,param2=50,minRadius=30,maxRadius=90)\n",
    "\n",
    "    if circles is not None:\n",
    "        circles = np.round(circles[0, :]).astype(\"int\")\n",
    "        for (x, y, r) in circles:\n",
    "            cv2.circle(output, (x, y), r, (0, 255, 0), 4)\n",
    "\n",
    "    plt.subplot(224), plt.imshow(output)\n",
    "\n",
    "    ###############################################################\n",
    "    # Creamos mascara de la moneda\n",
    "    ###############################################################\n",
    "    grayOutput = cv2.cvtColor(output, cv2.COLOR_RGB2GRAY)\n",
    "    siluetaMoneda = gray-grayOutput\n",
    "    siluetaMoneda[siluetaMoneda>0] = 255\n",
    "    mascaraMoneda = np.copy(siluetaMoneda)\n",
    "    cnts = cv2.findContours(mascaraMoneda, cv2.RETR_EXTERNAL, cv2.CHAIN_APPROX_SIMPLE)\n",
    "    cnts = cnts[0] if len(cnts) == 2 else cnts[1]\n",
    "\n",
    "    for c in cnts:\n",
    "        cv2.drawContours(mascaraMoneda,[c], 0, (255,255,255), -1)\n",
    "\n",
    "    ###############################################################\n",
    "    # Creamos una imagen con la moneda y el fondo negro\n",
    "    ###############################################################\n",
    "    monedaSinFondo = np.copy(imagenSinFondo)\n",
    "    monedaSinFondo[mascaraMoneda==0] = 0\n",
    "    plt.subplot(223), plt.imshow(monedaSinFondo)\n",
    "\n",
    "    #################################################################\n",
    "    \n",
    "    fd, hog_image = hog(monedaSinFondo, orientations=8, pixels_per_cell=(3, 3),cells_per_block=(7, 7), visualize=True)\n",
    "    hog_image_rescaled = exposure.rescale_intensity(hog_image, in_range=(0, 255))\n",
    "    \n",
    "    Xtrain[i] = fd\n",
    "    plt.show()\n",
    "    plt.figure(), plt.imshow(hog_image_rescaled, cmap = 'gray')\n",
    "    plt.show()\n",
    "    "
   ]
  },
  {
   "cell_type": "code",
   "execution_count": 67,
   "id": "f7f1235a",
   "metadata": {},
   "outputs": [],
   "source": [
    "for i,nombre in enumerate(nombresMonedas):\n",
    "    if ('1c' in nombre):\n",
    "        Ytrain[i] = 1\n",
    "    if ('2c' in nombre):\n",
    "        Ytrain[i] = 4\n",
    "    if ('5c' in nombre):\n",
    "        Ytrain[i] = 7\n",
    "    if ('10c' in nombre):\n",
    "        Ytrain[i] = 0\n",
    "    if ('20c' in nombre):\n",
    "        Ytrain[i] = 3\n",
    "    if ('50c' in nombre):\n",
    "        Ytrain[i] = 6\n",
    "    if ('1e' in nombre):\n",
    "        Ytrain[i] = 2\n",
    "    if ('2e' in nombre):\n",
    "        Ytrain[i] = 5"
   ]
  }
 ],
 "metadata": {
  "kernelspec": {
   "display_name": "Python 3",
   "language": "python",
   "name": "python3"
  },
  "language_info": {
   "codemirror_mode": {
    "name": "ipython",
    "version": 3
   },
   "file_extension": ".py",
   "mimetype": "text/x-python",
   "name": "python",
   "nbconvert_exporter": "python",
   "pygments_lexer": "ipython3",
   "version": "3.8.8"
  }
 },
 "nbformat": 4,
 "nbformat_minor": 5
}
